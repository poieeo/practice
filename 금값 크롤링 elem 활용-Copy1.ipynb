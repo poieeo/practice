{
 "cells": [
  {
   "cell_type": "code",
   "execution_count": 1,
   "id": "f5705f47",
   "metadata": {},
   "outputs": [],
   "source": [
    "#금값 크롤링하기 \n",
    "\n",
    "import time\n",
    "from selenium import webdriver\n",
    "from selenium.webdriver.chrome.options import Options\n",
    "from selenium.webdriver.chrome.service import Service\n",
    "from webdriver_manager.chrome import ChromeDriverManager\n",
    "from selenium.webdriver.common.keys import Keys\n",
    "from selenium.webdriver.common.by import By\n",
    "from bs4 import BeautifulSoup as bs\n",
    "import pandas as pd\n",
    "\n",
    "options=Options()\n",
    "options.add_experimental_option('detach',True) #화면이 꺼지지 않고 유지\n",
    "options.add_argument('--start-maximized') # 화면을 최대화\n",
    "service=Service(ChromeDriverManager().install()) #크롬드라이버 자동 설치\n",
    "\n",
    "driver=webdriver.Chrome(service=service, options=options)\n",
    "\n",
    "\n",
    "url='https://www.koreagoldx.co.kr/main/html.php?agencyCode=&htmid=goods/gold_list.html'\n",
    "driver.get(url)\n",
    "\n",
    "time.sleep(3)\n",
    "\n",
    "res1=[]\n",
    "for i in range(6):                                              \n",
    "    html=driver.page_source             #페이지정보 받기 ex)처음 나오는 1페이지정보받기 \n",
    "    res1.append(bs(html,'html.parser'))   #res에 그 정보 받고 담기\n",
    "    driver.find_element(By.XPATH,'//*[@id=\"example-table\"]/div[3]/span/button[3]').click() #페이지를 클릭하기\n",
    "    time.sleep(2)                  #다시돌아온다면 2번째 페이지 검색해서 받게됨 \n",
    "\n"
   ]
  },
  {
   "cell_type": "code",
   "execution_count": 13,
   "id": "d964d4e9",
   "metadata": {},
   "outputs": [],
   "source": [
    "elems=driver.find_elements(By.CLASS_NAME,'tabulator-row')"
   ]
  },
  {
   "cell_type": "code",
   "execution_count": 14,
   "id": "4f4c23ef",
   "metadata": {},
   "outputs": [
    {
     "data": {
      "text/plain": [
       "[<selenium.webdriver.remote.webelement.WebElement (session=\"a26b6516c68be7396380d5115334ba33\", element=\"11451cb9-5160-45ab-bbdd-004918ec5421\")>,\n",
       " <selenium.webdriver.remote.webelement.WebElement (session=\"a26b6516c68be7396380d5115334ba33\", element=\"012a2466-84a9-4780-832b-3ce750a69e9e\")>,\n",
       " <selenium.webdriver.remote.webelement.WebElement (session=\"a26b6516c68be7396380d5115334ba33\", element=\"fa8250c5-8ca5-456b-9b0b-c0371e619c20\")>,\n",
       " <selenium.webdriver.remote.webelement.WebElement (session=\"a26b6516c68be7396380d5115334ba33\", element=\"d8610c54-ad69-4021-8e22-d25a8a1a6710\")>]"
      ]
     },
     "execution_count": 14,
     "metadata": {},
     "output_type": "execute_result"
    }
   ],
   "source": [
    "elems"
   ]
  },
  {
   "cell_type": "code",
   "execution_count": 12,
   "id": "c65bef05",
   "metadata": {},
   "outputs": [
    {
     "data": {
      "text/plain": [
       "[<selenium.webdriver.remote.webelement.WebElement (session=\"a26b6516c68be7396380d5115334ba33\", element=\"11451cb9-5160-45ab-bbdd-004918ec5421\")>]"
      ]
     },
     "execution_count": 12,
     "metadata": {},
     "output_type": "execute_result"
    }
   ],
   "source": [
    "elems"
   ]
  },
  {
   "cell_type": "code",
   "execution_count": 16,
   "id": "d37c01b3",
   "metadata": {},
   "outputs": [],
   "source": [
    "elems1=driver.find_elements(By.CSS_SELECTOR, 'div.tabulator-row')  "
   ]
  },
  {
   "cell_type": "code",
   "execution_count": 22,
   "id": "429f7f40",
   "metadata": {},
   "outputs": [],
   "source": [
    "elems2=driver.find_elements(By.CSS_SELECTOR, 'div.tabulator-row')  "
   ]
  },
  {
   "cell_type": "code",
   "execution_count": 23,
   "id": "caa1ebc3",
   "metadata": {
    "scrolled": true
   },
   "outputs": [
    {
     "data": {
      "text/plain": [
       "[<selenium.webdriver.remote.webelement.WebElement (session=\"a26b6516c68be7396380d5115334ba33\", element=\"11451cb9-5160-45ab-bbdd-004918ec5421\")>,\n",
       " <selenium.webdriver.remote.webelement.WebElement (session=\"a26b6516c68be7396380d5115334ba33\", element=\"012a2466-84a9-4780-832b-3ce750a69e9e\")>,\n",
       " <selenium.webdriver.remote.webelement.WebElement (session=\"a26b6516c68be7396380d5115334ba33\", element=\"fa8250c5-8ca5-456b-9b0b-c0371e619c20\")>,\n",
       " <selenium.webdriver.remote.webelement.WebElement (session=\"a26b6516c68be7396380d5115334ba33\", element=\"d8610c54-ad69-4021-8e22-d25a8a1a6710\")>]"
      ]
     },
     "execution_count": 23,
     "metadata": {},
     "output_type": "execute_result"
    }
   ],
   "source": [
    "elems2"
   ]
  },
  {
   "cell_type": "code",
   "execution_count": 28,
   "id": "f271f920",
   "metadata": {},
   "outputs": [
    {
     "ename": "TypeError",
     "evalue": "'WebElement' object is not iterable",
     "output_type": "error",
     "traceback": [
      "\u001b[1;31m---------------------------------------------------------------------------\u001b[0m",
      "\u001b[1;31mTypeError\u001b[0m                                 Traceback (most recent call last)",
      "Cell \u001b[1;32mIn[28], line 2\u001b[0m\n\u001b[0;32m      1\u001b[0m \u001b[38;5;28;01mfor\u001b[39;00m i \u001b[38;5;129;01min\u001b[39;00m elems1:\n\u001b[1;32m----> 2\u001b[0m     \u001b[38;5;28;01mfor\u001b[39;00m j \u001b[38;5;129;01min\u001b[39;00m i:\n\u001b[0;32m      3\u001b[0m         \u001b[38;5;28mprint\u001b[39m(j\u001b[38;5;241m.\u001b[39mtext)\n\u001b[0;32m      4\u001b[0m         \u001b[38;5;28;01mbreak\u001b[39;00m\n",
      "\u001b[1;31mTypeError\u001b[0m: 'WebElement' object is not iterable"
     ]
    }
   ],
   "source": [
    "for i in elems1:\n",
    "    "
   ]
  },
  {
   "cell_type": "code",
   "execution_count": null,
   "id": "0b54e90f",
   "metadata": {},
   "outputs": [],
   "source": []
  },
  {
   "cell_type": "code",
   "execution_count": 17,
   "id": "871ff173",
   "metadata": {},
   "outputs": [
    {
     "data": {
      "text/plain": [
       "[<selenium.webdriver.remote.webelement.WebElement (session=\"a26b6516c68be7396380d5115334ba33\", element=\"11451cb9-5160-45ab-bbdd-004918ec5421\")>,\n",
       " <selenium.webdriver.remote.webelement.WebElement (session=\"a26b6516c68be7396380d5115334ba33\", element=\"012a2466-84a9-4780-832b-3ce750a69e9e\")>,\n",
       " <selenium.webdriver.remote.webelement.WebElement (session=\"a26b6516c68be7396380d5115334ba33\", element=\"fa8250c5-8ca5-456b-9b0b-c0371e619c20\")>,\n",
       " <selenium.webdriver.remote.webelement.WebElement (session=\"a26b6516c68be7396380d5115334ba33\", element=\"d8610c54-ad69-4021-8e22-d25a8a1a6710\")>]"
      ]
     },
     "execution_count": 17,
     "metadata": {},
     "output_type": "execute_result"
    }
   ],
   "source": [
    "elems1"
   ]
  },
  {
   "cell_type": "code",
   "execution_count": null,
   "id": "740465c6",
   "metadata": {},
   "outputs": [],
   "source": []
  },
  {
   "cell_type": "code",
   "execution_count": 2,
   "id": "80874ad1",
   "metadata": {},
   "outputs": [],
   "source": [
    "res2=[]\n",
    "for j in res1:\n",
    "    tmp3=[]\n",
    "    for i in j.find_all('div','tabulator-row'):\n",
    "        tmp2=[]\n",
    "        for k in i:\n",
    "            k.find_all('div','tabulator-cell')\n",
    "            tmp2.append(k.text)\n",
    "        tmp3.append(tmp2)\n",
    "    res2.append(pd.DataFrame(tmp3))\n"
   ]
  },
  {
   "cell_type": "code",
   "execution_count": 14,
   "id": "69dbdbcf",
   "metadata": {},
   "outputs": [
    {
     "data": {
      "text/html": [
       "<div>\n",
       "<style scoped>\n",
       "    .dataframe tbody tr th:only-of-type {\n",
       "        vertical-align: middle;\n",
       "    }\n",
       "\n",
       "    .dataframe tbody tr th {\n",
       "        vertical-align: top;\n",
       "    }\n",
       "\n",
       "    .dataframe thead th {\n",
       "        text-align: right;\n",
       "    }\n",
       "</style>\n",
       "<table border=\"1\" class=\"dataframe\">\n",
       "  <thead>\n",
       "    <tr style=\"text-align: right;\">\n",
       "      <th></th>\n",
       "      <th>날짜</th>\n",
       "      <th>살때 순금</th>\n",
       "      <th>팔때 순금</th>\n",
       "      <th>18k</th>\n",
       "      <th>14k</th>\n",
       "    </tr>\n",
       "  </thead>\n",
       "  <tbody>\n",
       "    <tr>\n",
       "      <th>0</th>\n",
       "      <td>2023.02.02</td>\n",
       "      <td>329,000</td>\n",
       "      <td>295,000</td>\n",
       "      <td>212,400</td>\n",
       "      <td>163,800</td>\n",
       "    </tr>\n",
       "    <tr>\n",
       "      <th>1</th>\n",
       "      <td>2023.02.01</td>\n",
       "      <td>328,000</td>\n",
       "      <td>295,000</td>\n",
       "      <td>212,400</td>\n",
       "      <td>163,800</td>\n",
       "    </tr>\n",
       "    <tr>\n",
       "      <th>2</th>\n",
       "      <td>2023.01.31</td>\n",
       "      <td>327,000</td>\n",
       "      <td>295,000</td>\n",
       "      <td>212,400</td>\n",
       "      <td>163,800</td>\n",
       "    </tr>\n",
       "    <tr>\n",
       "      <th>3</th>\n",
       "      <td>2023.01.30</td>\n",
       "      <td>327,500</td>\n",
       "      <td>295,000</td>\n",
       "      <td>212,400</td>\n",
       "      <td>163,800</td>\n",
       "    </tr>\n",
       "    <tr>\n",
       "      <th>4</th>\n",
       "      <td>2023.01.28</td>\n",
       "      <td>329,000</td>\n",
       "      <td>295,000</td>\n",
       "      <td>212,400</td>\n",
       "      <td>163,800</td>\n",
       "    </tr>\n",
       "    <tr>\n",
       "      <th>...</th>\n",
       "      <td>...</td>\n",
       "      <td>...</td>\n",
       "      <td>...</td>\n",
       "      <td>...</td>\n",
       "      <td>...</td>\n",
       "    </tr>\n",
       "    <tr>\n",
       "      <th>14</th>\n",
       "      <td>2022.11.07</td>\n",
       "      <td>324,500</td>\n",
       "      <td>292,000</td>\n",
       "      <td>210,300</td>\n",
       "      <td>162,100</td>\n",
       "    </tr>\n",
       "    <tr>\n",
       "      <th>0</th>\n",
       "      <td>2022.11.05</td>\n",
       "      <td>329,000</td>\n",
       "      <td>291,000</td>\n",
       "      <td>209,600</td>\n",
       "      <td>161,600</td>\n",
       "    </tr>\n",
       "    <tr>\n",
       "      <th>1</th>\n",
       "      <td>2022.11.04</td>\n",
       "      <td>323,000</td>\n",
       "      <td>290,000</td>\n",
       "      <td>208,800</td>\n",
       "      <td>161,000</td>\n",
       "    </tr>\n",
       "    <tr>\n",
       "      <th>2</th>\n",
       "      <td>2022.11.03</td>\n",
       "      <td>323,000</td>\n",
       "      <td>291,000</td>\n",
       "      <td>209,600</td>\n",
       "      <td>161,600</td>\n",
       "    </tr>\n",
       "    <tr>\n",
       "      <th>3</th>\n",
       "      <td>2022.11.02</td>\n",
       "      <td>323,500</td>\n",
       "      <td>292,500</td>\n",
       "      <td>210,600</td>\n",
       "      <td>162,400</td>\n",
       "    </tr>\n",
       "  </tbody>\n",
       "</table>\n",
       "<p>79 rows × 5 columns</p>\n",
       "</div>"
      ],
      "text/plain": [
       "            날짜    살때 순금    팔때 순금      18k      14k\n",
       "0   2023.02.02  329,000  295,000  212,400  163,800\n",
       "1   2023.02.01  328,000  295,000  212,400  163,800\n",
       "2   2023.01.31  327,000  295,000  212,400  163,800\n",
       "3   2023.01.30  327,500  295,000  212,400  163,800\n",
       "4   2023.01.28  329,000  295,000  212,400  163,800\n",
       "..         ...      ...      ...      ...      ...\n",
       "14  2022.11.07  324,500  292,000  210,300  162,100\n",
       "0   2022.11.05  329,000  291,000  209,600  161,600\n",
       "1   2022.11.04  323,000  290,000  208,800  161,000\n",
       "2   2022.11.03  323,000  291,000  209,600  161,600\n",
       "3   2022.11.02  323,500  292,500  210,600  162,400\n",
       "\n",
       "[79 rows x 5 columns]"
      ]
     },
     "execution_count": 14,
     "metadata": {},
     "output_type": "execute_result"
    }
   ],
   "source": [
    "res_df=pd.concat(res2)\n",
    "res_df.columns=['날짜','살때 순금','팔때 순금','18k','14k']\n",
    "res_df"
   ]
  },
  {
   "cell_type": "code",
   "execution_count": 10,
   "id": "929fd707",
   "metadata": {},
   "outputs": [],
   "source": [
    "import matplotlib.pyplot as plt\n",
    "\n",
    "\n",
    "res_df['살때 순금']=pd.to_numeric(res_df['살때 순금'].str.replace(',',''))\n",
    "\n"
   ]
  },
  {
   "cell_type": "code",
   "execution_count": 11,
   "id": "e0d3d9ab",
   "metadata": {},
   "outputs": [
    {
     "data": {
      "text/html": [
       "<div>\n",
       "<style scoped>\n",
       "    .dataframe tbody tr th:only-of-type {\n",
       "        vertical-align: middle;\n",
       "    }\n",
       "\n",
       "    .dataframe tbody tr th {\n",
       "        vertical-align: top;\n",
       "    }\n",
       "\n",
       "    .dataframe thead th {\n",
       "        text-align: right;\n",
       "    }\n",
       "</style>\n",
       "<table border=\"1\" class=\"dataframe\">\n",
       "  <thead>\n",
       "    <tr style=\"text-align: right;\">\n",
       "      <th></th>\n",
       "      <th>살때 순금</th>\n",
       "    </tr>\n",
       "    <tr>\n",
       "      <th>날짜</th>\n",
       "      <th></th>\n",
       "    </tr>\n",
       "  </thead>\n",
       "  <tbody>\n",
       "    <tr>\n",
       "      <th>2023.02.02</th>\n",
       "      <td>329000</td>\n",
       "    </tr>\n",
       "    <tr>\n",
       "      <th>2023.02.01</th>\n",
       "      <td>328000</td>\n",
       "    </tr>\n",
       "    <tr>\n",
       "      <th>2023.01.31</th>\n",
       "      <td>327000</td>\n",
       "    </tr>\n",
       "    <tr>\n",
       "      <th>2023.01.30</th>\n",
       "      <td>327500</td>\n",
       "    </tr>\n",
       "    <tr>\n",
       "      <th>2023.01.28</th>\n",
       "      <td>329000</td>\n",
       "    </tr>\n",
       "    <tr>\n",
       "      <th>...</th>\n",
       "      <td>...</td>\n",
       "    </tr>\n",
       "    <tr>\n",
       "      <th>2022.11.07</th>\n",
       "      <td>324500</td>\n",
       "    </tr>\n",
       "    <tr>\n",
       "      <th>2022.11.05</th>\n",
       "      <td>329000</td>\n",
       "    </tr>\n",
       "    <tr>\n",
       "      <th>2022.11.04</th>\n",
       "      <td>323000</td>\n",
       "    </tr>\n",
       "    <tr>\n",
       "      <th>2022.11.03</th>\n",
       "      <td>323000</td>\n",
       "    </tr>\n",
       "    <tr>\n",
       "      <th>2022.11.02</th>\n",
       "      <td>323500</td>\n",
       "    </tr>\n",
       "  </tbody>\n",
       "</table>\n",
       "<p>79 rows × 1 columns</p>\n",
       "</div>"
      ],
      "text/plain": [
       "             살때 순금\n",
       "날짜                \n",
       "2023.02.02  329000\n",
       "2023.02.01  328000\n",
       "2023.01.31  327000\n",
       "2023.01.30  327500\n",
       "2023.01.28  329000\n",
       "...            ...\n",
       "2022.11.07  324500\n",
       "2022.11.05  329000\n",
       "2022.11.04  323000\n",
       "2022.11.03  323000\n",
       "2022.11.02  323500\n",
       "\n",
       "[79 rows x 1 columns]"
      ]
     },
     "execution_count": 11,
     "metadata": {},
     "output_type": "execute_result"
    }
   ],
   "source": [
    "buygold=res_df.set_index('날짜').iloc[:,:1]\n",
    "buygold"
   ]
  },
  {
   "cell_type": "code",
   "execution_count": 12,
   "id": "d5647af6",
   "metadata": {},
   "outputs": [
    {
     "name": "stderr",
     "output_type": "stream",
     "text": [
      "C:\\Users\\user\\.conda\\envs\\han\\lib\\site-packages\\IPython\\core\\events.py:89: UserWarning: Glyph 45216 (\\N{HANGUL SYLLABLE NAL}) missing from current font.\n",
      "  func(*args, **kwargs)\n",
      "C:\\Users\\user\\.conda\\envs\\han\\lib\\site-packages\\IPython\\core\\events.py:89: UserWarning: Glyph 51676 (\\N{HANGUL SYLLABLE JJA}) missing from current font.\n",
      "  func(*args, **kwargs)\n",
      "C:\\Users\\user\\.conda\\envs\\han\\lib\\site-packages\\IPython\\core\\events.py:89: UserWarning: Glyph 49332 (\\N{HANGUL SYLLABLE SAL}) missing from current font.\n",
      "  func(*args, **kwargs)\n",
      "C:\\Users\\user\\.conda\\envs\\han\\lib\\site-packages\\IPython\\core\\events.py:89: UserWarning: Glyph 46412 (\\N{HANGUL SYLLABLE DDAE}) missing from current font.\n",
      "  func(*args, **kwargs)\n",
      "C:\\Users\\user\\.conda\\envs\\han\\lib\\site-packages\\IPython\\core\\events.py:89: UserWarning: Glyph 49692 (\\N{HANGUL SYLLABLE SUN}) missing from current font.\n",
      "  func(*args, **kwargs)\n",
      "C:\\Users\\user\\.conda\\envs\\han\\lib\\site-packages\\IPython\\core\\events.py:89: UserWarning: Glyph 44552 (\\N{HANGUL SYLLABLE GEUM}) missing from current font.\n",
      "  func(*args, **kwargs)\n"
     ]
    },
    {
     "data": {
      "text/plain": [
       "<Figure size 5000x3000 with 0 Axes>"
      ]
     },
     "metadata": {},
     "output_type": "display_data"
    },
    {
     "name": "stderr",
     "output_type": "stream",
     "text": [
      "C:\\Users\\user\\.conda\\envs\\han\\lib\\site-packages\\IPython\\core\\pylabtools.py:152: UserWarning: Glyph 45216 (\\N{HANGUL SYLLABLE NAL}) missing from current font.\n",
      "  fig.canvas.print_figure(bytes_io, **kw)\n",
      "C:\\Users\\user\\.conda\\envs\\han\\lib\\site-packages\\IPython\\core\\pylabtools.py:152: UserWarning: Glyph 51676 (\\N{HANGUL SYLLABLE JJA}) missing from current font.\n",
      "  fig.canvas.print_figure(bytes_io, **kw)\n",
      "C:\\Users\\user\\.conda\\envs\\han\\lib\\site-packages\\IPython\\core\\pylabtools.py:152: UserWarning: Glyph 49332 (\\N{HANGUL SYLLABLE SAL}) missing from current font.\n",
      "  fig.canvas.print_figure(bytes_io, **kw)\n",
      "C:\\Users\\user\\.conda\\envs\\han\\lib\\site-packages\\IPython\\core\\pylabtools.py:152: UserWarning: Glyph 46412 (\\N{HANGUL SYLLABLE DDAE}) missing from current font.\n",
      "  fig.canvas.print_figure(bytes_io, **kw)\n",
      "C:\\Users\\user\\.conda\\envs\\han\\lib\\site-packages\\IPython\\core\\pylabtools.py:152: UserWarning: Glyph 49692 (\\N{HANGUL SYLLABLE SUN}) missing from current font.\n",
      "  fig.canvas.print_figure(bytes_io, **kw)\n",
      "C:\\Users\\user\\.conda\\envs\\han\\lib\\site-packages\\IPython\\core\\pylabtools.py:152: UserWarning: Glyph 44552 (\\N{HANGUL SYLLABLE GEUM}) missing from current font.\n",
      "  fig.canvas.print_figure(bytes_io, **kw)\n"
     ]
    },
    {
     "data": {
      "image/png": "[encoded data removed]",
      "text/plain": [
       "<Figure size 640x480 with 1 Axes>"
      ]
     },
     "metadata": {},
     "output_type": "display_data"
    }
   ],
   "source": [
    "plt.figure(figsize=(50,30))\n",
    "buygold.plot(kind='bar');"
   ]
  },
  {
   "cell_type": "code",
   "execution_count": 13,
   "id": "33d2804a",
   "metadata": {},
   "outputs": [
    {
     "data": {
      "image/png": "[encoded data removed]",
      "text/plain": [
       "<Figure size 640x480 with 1 Axes>"
      ]
     },
     "metadata": {},
     "output_type": "display_data"
    },
    {
     "data": {
      "image/png": "[encoded data removed]",
      "text/plain": [
       "<Figure size 640x480 with 1 Axes>"
      ]
     },
     "metadata": {},
     "output_type": "display_data"
    },
    {
     "data": {
      "text/plain": [
       "<AxesSubplot: >"
      ]
     },
     "execution_count": 13,
     "metadata": {},
     "output_type": "execute_result"
    },
    {
     "data": {
      "image/png": "[encoded data removed]",
      "text/plain": [
       "<Figure size 640x480 with 1 Axes>"
      ]
     },
     "metadata": {},
     "output_type": "display_data"
    }
   ],
   "source": [
    "from IPython.display import Image\n",
    "\n",
    "# seaborn\n",
    "import seaborn as sns\n",
    "\n",
    "\n",
    "res_df['살때 순금'].value_counts().plot(kind='bar')\n",
    "plt.show()\n",
    "res_df['팔때 순금'].value_counts().plot(kind='bar')\n",
    "plt.show()\n",
    "res_df['18k'].value_counts().plot(kind='bar')"
   ]
  },
  {
   "cell_type": "code",
   "execution_count": null,
   "id": "37ad83a5",
   "metadata": {},
   "outputs": [],
   "source": []
  }
 ],
 "metadata": {
  "kernelspec": {
   "display_name": "Python 3 (ipykernel)",
   "language": "python",
   "name": "python3"
  },
  "language_info": {
   "codemirror_mode": {
    "name": "ipython",
    "version": 3
   },
   "file_extension": ".py",
   "mimetype": "text/x-python",
   "name": "python",
   "nbconvert_exporter": "python",
   "pygments_lexer": "ipython3",
   "version": "3.10.8"
  }
 },
 "nbformat": 4,
 "nbformat_minor": 5
}
